{
 "cells": [
  {
   "cell_type": "markdown",
   "metadata": {},
   "source": [
    "# Net Surgery\n",
    "\n",
    "Caffe networks can be transformed to your particular needs by editing the model parameters. The data, diffs, and parameters of a net are all exposed in pycaffe.\n",
    "\n",
    "Roll up your sleeves for net surgery with pycaffe!"
   ]
  },
  {
   "