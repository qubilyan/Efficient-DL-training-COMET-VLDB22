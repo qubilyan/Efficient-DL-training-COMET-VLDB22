{
 "cells": [
  {
   "cell_type": "markdown",
   "metadata": {},
   "source": [
    "# Classification: Instant Recognition with Caffe\n",
    "\n",
    "In this example we'll classify an image with the bundled CaffeNet model (which is based on the network architecture of Krizhevsky et al. for ImageNet).\n",
    "\n",
    "We'll compare CPU and GPU modes and then dig into the model to inspect features and the output."
   ]
  },
  {
   "cell_type": "markdown",
   "metadata": {},
   "source": [
    "### 1. Setup\n",
    "\n",
    "* First, set up Python, `numpy`, and `matplotlib`."
   ]
  },
  {
   "cell_type": "code",
   "execution_count": 1,
   "metadata": {
    "collapsed": false
   },
   "outputs": [],
   "source": [
    "# set up Python environment: numpy for numerical routines, and matplotlib for plotting\n",
    "import numpy as np\n",
    "import matplotlib.pyplot as plt\n",
    "# display plots in this notebook\n",
    "%matplotlib inline\n",
    "\n",
    "# set display defaults\n",
    "plt.rcParams['figure.figsize'] = (10, 10)        # large images\n",
    "plt.rcParams['image.interpolation'] = 'nearest'  # don't interpolate: show square pixels\n",
    "plt.rcParams['image.cmap'] = 'gray'  # use grayscale output rather than a (potentially misleading) color heatmap"
   ]
  },
  {
   "cell_type": "markdown",
   "metadata": {},
   "source": [
    "* Load `caffe`."
   ]
  },
  {
   "cell_type": "code",
   "execution_count": 2,
   "metadata": {
    "collapsed": false
   },
   "outputs": [],
   "source": [
    "# The caffe module needs to be on the Python path;\n",
    "#  we'll add it here explicitly.\n",
    "import sys\n",
    "caffe_root = '../'  # this file should be run from {caffe_root}/examples (otherwise change this line)\n",
    "sys.path.insert(0, caffe_root + 'python')\n",
    "\n",
    "import caffe\n",
    "# If you get \"No module named _caffe\", either you have not built pycaffe or you have the wrong path."
   ]
  },
  {
   "cell_type": "markdown",
   "metadata": {},
   "source": [
    "* If needed, download the reference model (\"CaffeNet\", a variant of AlexNet)."
   ]
  },
  {
   "cell_type": "code",
   "execution_count": 3,
   "metadata": {
    "collapsed": false
   },
   "outputs": [
    {
     "name": "stdout",
     "output_type": "stream",
     "text": [
      "CaffeNet found.\n"
     ]
    }
   ],
   "source": [
    "import os\n",
    "if os.path.isfile(caffe_root + 'models/bvlc_reference_caffenet/bvlc_reference_caffenet.caffemodel'):\n",
    "    print 'CaffeNet found.'\n",
    "else:\n",
    "    print 'Downloading pre-trained CaffeNet model...'\n",
    "    !../scripts/download_model_binary.py ../models/bvlc_reference_caffenet"
   ]
  },
  {
   "cell_type": "markdown",
   "metadata": {},
   "source": [
    "### 2. Load net and set up input preprocessing\n",
    "\n",
    "* Set Caffe to CPU mode and load the net from disk."
   ]
  },
  {
   "cell_type": "code",
   "execution_count": 4,
   "metadata": {
    "collapsed": false
   },
   "outputs": [],
   "source": [
    "caffe.set_mode_cpu()\n",
    "\n",
    "model_def = caffe_root + 'models/bvlc_reference_caffenet/deploy.prototxt'\n",
    "model_weights = caffe_root + 'models/bvlc_reference_caffenet/bvlc_reference_caffenet.caffemodel'\n",
    "\n",
    "net = caffe.Net(model_def,      # defines the structure of the model\n",
    "                model_weights,  # contains the trained weights\n",
    "                caffe.TEST)     # use test mode (e.g., don't perform dropout)"
   ]
  },
  {
   "cell_type": "markdown",
   "metadata": {},
   "source": [
    "* Set up input preprocessing. (We'll use Caffe's `caffe.io.Transformer` to do this, but this step is independent of other parts of Caffe, so any custom preprocessing code may be used).\n",
    "\n",
    "    Our default CaffeNet is configured to take images in BGR format. Values are expected to start in the range [0, 255] and then have the mean ImageNet pixel value subtracted from them. In addition, the channel dimension is expected as the first (_outermost_) dimension.\n",
    "    \n",
    "    As matplotlib will load images with values in the range [0, 1] in RGB format with the channel as the _innermost_ dimension, we are arranging for the needed transformations here."
   ]
  },
  {
   "cell_type": "code",
   "execution_count": 5,
   "metadata": {
    "collapsed": false
   },
   "outputs": [
    {
     "name": "stdout",
     "output_type": "stream",
     "text": [
      "mean-subtracted values: [('B', 104.0069879317889), ('G', 116.66876761696767), ('R', 122.6789143406786)]\n"
     ]
    }
   ],
   "source": [
    "# load the mean ImageNet image (as distributed with Caffe) for subtraction\n",
    "mu = np.load(caffe_root + 'python/caffe/imagenet/ilsvrc_2012_mean.npy')\n",
    "mu = mu.mean(1).mean(1)  # average over pixels to obtain the mean (BGR) pixel values\n",
    "print 'mean-subtracted values:', zip('BGR', mu)\n",
    "\n",
    "# create transformer for the input called 'data'\n",
    "transformer = caffe.io.Transformer({'data': net.blobs['data'].data.shape})\n",
    "\n",
    "transformer.set_transpose('data', (2,0,1))  # move image channels to outermost dimension\n",
    "transformer.set_mean('data', mu)            # subtract the dataset-mean value in each channel\n",
    "transformer.set_raw_scale('data', 255)      # rescale from [0, 1] to [0, 255]\n",
    "transformer.set_channel_swap('data', (2,1,0))  # swap channels from RGB to BGR"
   ]
  },
  {
   "cell_type": "markdown",
   "metadata": {},
   "source": [
    "### 3. CPU classification\n",
    "\n",
    "* Now we're ready to perform classification. Even though we'll only classify one image, we'll set a batch size of 50 to demonstrate batching."
   ]
  },
  {
   "cell_type": "code",
   "execution_count": 6,
   "metadata": {
    "collapsed": false
   },
   "outputs": [],
   "source": [
    "# set the size of the input (we can skip this if we're happy\n",
    "#  with the default; we can also change it later, e.g., for different batch sizes)\n",
    "net.blobs['data'].reshape(50,        # batch size\n",
    "                          3,         # 3-channel (BGR) images\n",
    "                          227, 227)  # image size is 227x227"
   ]
  },
  {
   "cell_type": "markdown",
   "metadata": {},
   "source": [
    "* Load an image (that comes with Caffe) and perform the preprocessing we've set up."
   ]
  },
  {
   "cell_type": "code",
   "execution_count": 7,
   "metadata": {
    "collapsed": false
   },
   "outputs": [
    {
     "data": {
      "text/plain": [
       "<matplotlib.image.AxesImage at 0x7f09693a8c90>"
      ]
     },
     "execution_count": 7,
     "metadata": {},
     "output_type": "execute_result"
    },
    {
     "data": {
      "image/png": "iVBORw0KGgoAAAANSUhEUgAAAlIAAAHDCAYAAADvDfQIAAAABHNCSVQICAgIfAhkiAAAAAlwSFlz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\n12h0a97X30Xpvod6c/qW0Uann+8/yABZNnLKCkxupLszjoD+V1psDMw