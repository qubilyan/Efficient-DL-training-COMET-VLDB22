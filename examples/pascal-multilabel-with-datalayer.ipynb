{
 "cells": [
  {
   "cell_type": "markdown",
   "metadata": {},
   "source": [
    "# Multilabel classification on PASCAL using python data-layers"
   ]
  },
  {
   "cell_type": "markdown",
   "metadata": {},
   "source": [
    "In this tutorial we will do multilabel classification on PASCAL VOC 2012.\n",
    "\n",
    "Multilabel classification is a generalization of multiclass classification, where each instance (image) can belong to many classes. For example, an image may both belong to a \"beach\" category and a \"vacation pictures\" category. In multiclass classification, on the other hand, each image belongs to a single class.\n",
    "\n",
    "Caffe supports multilabel classification through the SigmoidCrossEntropyLoss layer, and we will load data using a Python data layer. Data could also be provided through HDF5 or LMDB data layers, but the python data layer provides endless flexibility, so that's what we will use."
   ]
  },
  {
   "cell_type": "markdown",
   "metadata": {},
   "source": [
    "### 1. Preliminaries\n",
    "\n",
    "* First, make sure you compile caffe using\n",
    "WITH_PYTHON_LAYER := 1\n",
    "\n",
    "* Second, download PASCAL VOC 2012. It's available here: http://host.robots.ox.ac.uk/pascal/VOC/voc2012/index.html\n",
    "\n",
    "* Third, import modules:"
   ]
  },
  {
   "cell_type": "code",
   "execution_count": 2,
   "metadata": {
    "collapsed": true
   },
   "outputs": [],
   "source": [
    "import sys \n",
    "import os\n",
    "\n",
    "import numpy as np\n",
    "import os.path as osp\n",
    "import matplotlib.pyplot as plt\n",
    "\n",
    "from copy import copy\n",
    "\n",
    "% matplotlib inline\n",
    "plt.rcParams['figure.figsize'] = (6, 6)\n",
    "\n",
    "caffe_root = '../'  # this file is expected to be in {caffe_root}/examples\n",
    "sys.path.append(caffe_root + 'python')\n",
    "import caffe # If you get \"No module named _caffe\", either you have not built pycaffe or you have the wrong path.\n",
    "\n",
    "from caffe import layers as L, params as P # Shortcuts to define the net prototxt.\n",
    "\n",
    "sys.path.append(\"pycaffe/layers\") # the datalayers we will use are in this directory.\n",
    "sys.path.append(\"pycaffe\") # the tools file is in this folder\n",
    "\n",
    "import tools #this contains some tools that we need"
   ]
  },
  {
   "cell_type": "markdown",
   "metadata": {},
   "source": [
    "* Fourth, set data directories and initialize caffe"
   ]
  },
  {
   "cell_type": "code",
   "execution_count": 3,
   "metadata": {
    "collapsed": false
   },
   "outputs": [],
   "source": [
    "# set data root directory, e.g:\n",
    "pascal_root = osp.join(caffe_root, 'data/pascal/VOC2012')\n",
    "\n",
    "# these are the PASCAL classes, we'll need them later.\n",
    "classes = np.asarray(['aeroplane', 'bicycle', 'bird', 'boat', 'bottle', 'bus', 'car', 'cat', 'chair', 'cow', 'diningtable', 'dog', 'horse', 'motorbike', 'person', 'pottedplant', 'sheep', 'sofa', 'train', 'tvmonitor'])\n",
    "\n",
    "# make sure we have the caffenet weight downloaded.\n",
    "if not os.path.isfile(caffe_root + 'models/bvlc_reference_caffenet/bvlc_reference_caffenet.caffemodel'):\n",
    "    print(\"Downloading pre-trained CaffeNet model...\")\n",
    "    !../scripts/download_model_binary.py ../models/bvlc_reference_caffenet\n",
    "\n",
    "# initialize caffe for gpu mode\n",
    "caffe.set_mode_gpu()\n",
    "caffe.set_device(0)"
   ]
  },
  {
   "cell_type": "markdown",
   "metadata": {},
   "source": [
    "### 2. Define network prototxts\n",
    "\n",
    "* Let's start by defining the nets using caffe.NetSpec. Note how we used the SigmoidCrossEntropyLoss layer. This is the right loss for multilabel classification. Also note how the data layer is defined."
   ]
  },
  {
   "cell_type": "code",
   "execution_count": 4,
   "metadata": {
    "collapsed": false
   },
   "outputs": [],
   "source": [
    "# helper function for common structures\n",
    "def conv_relu(bottom, ks, nout, stride=1, pad=0, group=1):\n",
    "    conv = L.Convolution(bottom, kernel_size=ks, stride=stride,\n",
    "                                num_output=nout, pad=pad, group=group)\n",
    "    return conv, L.ReLU(conv, in_place=True)\n",
    "\n",
    "# another helper function\n",
    "def fc_relu(bottom, nout):\n",
    "    fc = L.InnerProduct(bottom, num_output=nout)\n",
    "    return fc, L.ReLU(fc, in_place=True)\n",
    "\n",
    "# yet another helper function\n",
    "def max_pool(bottom, ks, stride=1):\n",
    "    return L.Pooling(bottom, pool=P.Pooling.MAX, kernel_size=ks, stride=stride)\n",
    "\n",
    "# main netspec wrapper\n",
    "def caffenet_multilabel(data_layer_params, datalayer):\n",
    "    # setup the python data layer \n",
    "    n = caffe.NetSpec()\n",
    "    n.data, n.label = L.Python(module = 'pascal_multilabel_datalayers', layer = datalayer, \n",
    "                               ntop = 2, param_str=str(data_layer_params))\n",
    "\n",
    "    # the net itself\n",
    "    n.conv1, n.relu1 = conv_relu(n.data, 11, 96, stride=4)\n",
    "    n.pool1 = max_pool(n.relu1, 3, stride=2)\n",
    "    n.norm1 = L.LRN(n.pool1, local_size=5, alpha=1e-4, beta=0.75)\n",
    "    n.conv2, n.relu2 = conv_relu(n.norm1, 5, 256, pad=2, group=2)\n",
    "    n.pool2 = max_pool(n.relu2, 3, stride=2)\n",
    "    n.norm2 = L.LRN(n.pool2, local_size=5, alpha=1e-4, beta=0.75)\n",
    "    n.conv3, n.relu3 = conv_relu(n.norm2, 3, 384, pad=1)\n",
    "    n.conv4, n.relu4 = conv_relu(n.relu3, 3, 384, pad=1, group=2)\n",
    "    n.conv5, n.relu5 = conv_relu(n.relu4, 3, 256, pad=1, group=2)\n",
    "    n.pool5 = max_pool(n.relu5, 3, stride=2)\n",
    "    n.fc6, n.relu6 = fc_relu(n.pool5, 4096)\n",
    "    n.drop6 = L.Dropout(n.relu6, in_place=True)\n",
    "    n.fc7, n.relu7 = fc_relu(n.drop6, 4096)\n",
    "    n.drop7 = L.Dropout(n.relu7, in_place=True)\n",
    "    n.score = L.InnerProduct(n.drop7, num_output=20)\n",
    "    n.loss = L.SigmoidCrossEntropyLoss(n.score, n.label)\n",
    "    \n",
    "    return str(n.to_proto())"
   ]
  },
  {
   "cell_type": "markdown",
   "metadata": {},
   "source": [
    "### 3. Write nets and solver files\n",
    "\n",
    "* Now we can crete net and solver prototxts. For the solver, we use the CaffeSolver class from the \"tools\" module"
   ]
  },
  {
   "cell_type": "code",
   "execution_count": 5,
   "metadata": {
    "collapsed": false
   },
   "outputs": [],
   "source": [
    "workdir = './pascal_multilabel_with_datalayer'\n",
    "if not os.path.isdir(workdir):\n",
    "    os.makedirs(workdir)\n",
    "\n",
    "solverprototxt = tools.CaffeSolver(trainnet_prototxt_path = osp.join(workdir, \"trainnet.prototxt\"), testnet_prototxt_path = osp.join(workdir, \"valnet.prototxt\"))\n",
    "solverprototxt.sp['display'] = \"1\"\n",
    "solverprototxt.sp['base_lr'] = \"0.0001\"\n",
    "solverprototxt.write(osp.join(workdir, 'solver.prototxt'))\n",
    "\n",
    "# write train net.\n",
    "with open(osp.join(workdir, 'trainnet.prototxt'), 'w') as f:\n",
    "    # provide parameters to the data layer as a python dictionary. Easy as pie!\n",
    "    data_layer_params = dict(batch_size = 128, im_shape = [227, 227], split = 'train', pascal_root = pascal_root)\n",
    "    f.write(caffenet_multilabel(data_layer_params, 'PascalMultilabelDataLayerSync'))\n",
    "\n",
    "# write validation net.\n",
    "with open(osp.join(workdir, 'valnet.prototxt'), 'w') as f:\n",
    "    data_layer_params = dict(batch_size = 128, im_shape = [227, 227], split = 'val', pascal_root = pascal_root)\n",
    "    f.write(caffenet_multilabel(data_layer_params, 'PascalMultilabelDataLayerSync'))"
   ]
  },
  {
   "cell_type": "markdown",
   "metadata": {},
   "source": [
    "* This net uses a python datalayer: 'PascalMultilabelDataLayerSync', which is defined in './pycaffe/layers/pascal_multilabel_datalayers.py'. \n",
    "\n",
    "* Take a look at the code. It's quite straight-forward, and gives you full control over data and labels.\n",
    "\n",
    "* Now we can load the caffe solver as usual."
   ]
  },
  {
   "cell_type": "code",
   "execution_count": 37,
   "metadata": {
    "collapsed": false
   },
   "outputs": [
    {
     "name": "stdout",
     "output_type": "stream",
     "text": [
      "BatchLoader initialized with 5717 images\n",
      "PascalMultilabelDataLayerSync initialized for split: train, with bs: 128, im_shape: [227, 227].\n",
      "BatchLoader initialized with 5823 images\n",
      "PascalMultilabelDataLayerSync initialized for split: val, with bs: 128, im_shape: [227, 227].\n"
     ]
    }
   ],
   "source": [
    "solver = caffe.SGDSolver(osp.join(workdir, 'solver.prototxt'))\n",
    "solver.net.copy_from(caffe_root + 'models/bvlc_reference_caffenet/bvlc_reference_caffenet.caffemodel')\n",
    "solver.test_nets[0].share_with(solver.net)\n",
    "solver.step(1)"
   ]
  },
  {
   "cell_type": "markdown",
   "metadata": {},
   "source": [
    "* Let's check the data we have loaded."
   ]
  },
  {
   "cell_type": "code",
   "execution_count": 16,
   "metadata": {
    "collapsed": false
   },
   "outputs": [
    {
     "data": {
      "image/png": "iVBORw0KGgoAAAANSUhEUgAAAXIAAAF6CAYAAAAEd9NkAAAABHNCSVQICAgIfAhkiAAAAAlwSFlz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\npZXIXa