{
 "cells": [
  {
   "cell_type": "markdown",
   "metadata": {},
   "source": [
    "# Multilabel classification on PASCAL using python data-layers"
   ]
  },
  {
   "cell_type": "markdown",
   "metadata": {},
   "source": [
    "In this tutorial we will do multilabel classification on PASCAL VOC 2012.\n",
    "\n",
    "Multilabel classification is a generalization of multiclass classification, where each instance (image) can belong to many classes. For example, an image may both belong to a \"beach\" category and a \"vacation pictures\" category. In multiclass classification, on the other hand, each image belongs to a single class.\n",
    "\n",
    "Caffe supports multilabel classification through the SigmoidCrossEntropyLoss layer, and we will load data using a Python data layer. Data could also be provided through HDF5 or LMDB data layers, but the python data layer provides endless flexibility, so that's what we will use."
   ]
  },
  {
   "cell_type": "markdown",
   "metadata": {},
   "source": [
    "### 1. Preliminaries\n",
    "\n",
    "* First, make sure you compile caffe using\n",
    "WITH_PYTHON_LAYER := 1\n",
    "\n",
    "* Second, download PASCAL VOC 2012. It's available here: http://host.robots.ox.ac.uk/pascal/VOC/voc2012/index.html\n",
    "\n",
    "* Third, import modules:"
   ]
  },
  {
   "cell_type": "code",
   "execution_count": 2,
   "metadata": {
    "collapsed": true
   },
   "outputs": [],
   "source": [
    "import sys \n",
    "import os\n",
    "\n",
    "import numpy as np\n",
    "import os.path as osp\n",
    "import matplotlib.pyplot as plt\n",
    "\n",
    "from copy import copy\n",
    "\n",
    "% matplotlib inline\n",
    "plt.rcParams['figure.figsize'] = (6, 6)\n",
    "\n",
    "caffe_root = '../'  # this file is expected to be in {caffe_root}/examples\n",
    "sys.path.append(caffe_root + 'python')\n",
    "import caffe # If you get \"No module named _caffe\", either you have not built pycaffe or you have the wrong path.\n",
    "\n",
    "from caffe import layers as L, params as P # Shortcuts to define the net prototxt.\n",
    "\n",
    "sys.path.append(\"pycaffe/layers\") # the datalayers we will use are in this directory.\n",
    "sys.path.append(\"pycaffe\") # the tools file is in this folder\n",
    "\n",
    "import tools #this contains some tools that we need"
   ]
  },
  {
   "cell_type": "markdown",
   "metadata": {},
   "source": [
    "* Fourth, set data directories and initialize caffe"
   ]
  },
  {
   "cell_type": "code",
   "execution_count": 3,
   "metadata": {
    "collapsed": false
   },
   "outputs": [],
   "source": [
    "# set data root directory, e.g:\n",
    "pascal_root = osp.join(caffe_root, 'data/pascal/VOC2012')\n",
    "\n",
    "# these are the PASCAL classes, we'll need them later.\n",
    "classes = np.asarray(['aeroplane', 'bicycle', 'bird', 'boat', 'bottle', 'bus', 'car', 'cat', 'chair', 'cow', 'diningtable', 'dog', 'horse', 'motorbike', 'person', 'pottedplant', 'sheep', 'sofa', 'train', 'tvmonitor'])\n",
    "\n",
    "# make sure we have the caffenet weight downloaded.\n",
    "if not os.path.isfile(caffe_root + 'models/bvlc_reference_caffenet/bvlc_reference_caffenet.caffemodel'):\n",
    "    print(\"Downloading pre-trained CaffeNet model...\")\n",
    "    !../scripts/download_model_binary.py ../models/bvlc_reference_caffenet\n",
    "\n",
    "# initialize caffe for gpu mode\n",
    "caffe.set_mode_gpu()\n",
    "caffe.set_device(0)"
   ]
  },
  {
   "cell_type": "markdown",
   "metadata": {},
   "source": [
    "### 2. Define network prototxts\n",
    "\n",
    "* Let's start by defining the nets using caffe.NetSpec. Note how we used the SigmoidCrossEntropyLoss layer. This is the right loss for multilabel classification. Also note how the data layer is defined."
   ]
  },
  {
   "cell_type": "code",
   "execution_count": 4,
   "metadata": {
    "collapsed": false
   },
   "outputs": [],
   "source": [
    "# helper function for common structures\n",
    "def conv_relu(bottom, ks, nout, stride=1, pad=0, group=1):\n",
    "    conv = L.Convolution(bottom, kernel_size=ks, stride=stride,\n",
    "                                num_output=nout, pad=pad, group=group)\n",
    "    return conv, L.ReLU(conv, in_place=True)\n",
    "\n",
    "# another helper function\n",
    "def fc_relu(bottom, nout):\n",
    "    fc = L.InnerProduct(bottom, num_output=nout)\n",
    "    return fc, L.ReLU(fc, in_place=True)\n",
    "\n",
    "# yet another helper function\n",
    "def max_pool(bottom, ks, stride=1):\n",
    "    return L.Pooling(bottom, pool=P.Pooling.MAX, kernel_size=ks, stride=stride)\n",
    "\n",
    "# main netspec wrapper\n",
    "def caffenet_multilabel(data_layer_params, datalayer):\n",
    "    # setup the python data layer \n",
    "    n = caffe.NetSpec()\n",
    "    n.data, n.label = L.Python(module = 'pascal_multilabel_datalayers', layer = datalayer, \n",
    "                               ntop = 2, param_str=str(data_layer_params))\n",
    "\n",
    "    # the net itself\n",
    "    n.conv1, n.relu1 = conv_relu(n.data, 11, 96, stride=4)\n",
    "    n.pool1 = max_pool(n.relu1, 3, stride=2)\n",
    "    n.norm1 = L.LRN(n.pool1, local_size=5, alpha=1e-4, beta=0.75)\n",
    "    n.conv2, n.relu2 = conv_relu(n.norm1, 5, 256, pad=2, group=2)\n",
    "    n.pool2 = max_pool(n.relu2, 3, stride=2)\n",
    "    n.norm2 = L.LRN(n.pool2, local_size=5, alpha=1e-4, beta=0.75)\n",
    "    n.conv3, n.relu3 = conv_relu(n.norm2, 3, 384, pad=1)\n",
    "    n.conv4, n.relu4 = conv_relu(n.relu3, 3, 384, pad=1, group=2)\n",
    "    n.conv5, n.relu5 = conv_relu(n.relu4, 3, 256, pad=1, group=2)\n",
    "    n.pool5 = max_pool(n.relu5, 3, stride=2)\n",
    "    n.fc6, n.relu6 = fc_relu(n.pool5, 4096)\n",
    "    n.drop6 = L.Dropout(n.relu6, in_place=True)\n",
    "    n.fc7, n.relu7 = fc_relu(n.drop6, 4096)\n",
    "    n.drop7 = L.Dropout(n.relu7, in_place=True)\n",
    "    n.score = L.InnerProduct(n.drop7, num_output=20)\n",
    "    n.loss = L.SigmoidCrossEntropyLoss(n.score, n.label)\n",
    "    \n",
    "    return str(n.to_proto())"
   ]
  },
  {
   "cell_type": "markdown",
   "metadata": {},
   "source": [
    "### 3. Write nets and solver files\n",
    "\n",
    "* Now we can crete net and solver prototxts. For the solver, we use the CaffeSolver class from the \"tools\" module"
   ]
  },
  {
   "cell_type": "code",
   "execution_count": 5,
   "metadata": {
    "collapsed": false
   },
   "outputs": [],
   "source": [
    "workdir = './pascal_multilabel_with_datalayer'\n",
    "if not os.path.isdir(workdir):\n",
    "    os.makedirs(workdir)\n",
    "\n",
    "solverprototxt = tools.CaffeSolver(trainnet_prototxt_path = osp.join(workdir, \"trainnet.prototxt\"), testnet_prototxt_path = osp.join(workdir, \"valnet.prototxt\"))\n",
    "solverprototxt.sp['display'] = \"1\"\n",
    "solverprototxt.sp['base_lr'] = \"0.0001\"\n",
    "solverprototxt.write(osp.join(workdir, 'solver.prototxt'))\n",
    "\n",
    "# write train net.\n",
    "with open(osp.join(workdir, 'trainnet.prototxt'), 'w') as f:\n",
    "    # provide parameters to the data layer as a python dictionary. Easy as pie!\n",
    "    data_layer_params = dict(batch_size = 128, im_shape = [227, 227], split = 'train', pascal_root = pascal_root)\n",
    "    f.write(caffenet_multilabel(data_layer_params, 'PascalMultilabelDataLayerSync'))\n",
    "\n",
    "# write validation net.\n",
    "with open(osp.join(workdir, 'valnet.prototxt'), 'w') as f:\n",
    "    data_layer_params = dict(batch_size = 128, im_shape = [227, 227], split = 'val', pascal_root = pascal_root)\n",
    "    f.write(caffenet_multilabel(data_layer_params, 'PascalMultilabelDataLayerSync'))"
   ]
  },
  {
   "cell_type": "markdown",
   "metadata": {},
   "source": [
    "* This net uses a python datalayer: 'PascalMultilabelDataLayerSync', which is defined in './pycaffe/layers/pascal_multilabel_datalayers.py'. \n",
    "\n",
    "* Take a look at the code. It's quite straight-forward, and gives you full control over data and labels.\n",
    "\n",
    "* Now we can load the caffe solver as usual."
   ]
  },
  {
   "cell_type": "code",
   "execution_count": 37,
   "metadata": {
    "collapsed": false
   },
   "outputs": [
    {
     "name": "stdout",
     "output_type": "stream",
     "text": [
      "BatchLoader initialized with 5717 images\n",
      "PascalMultilabelDataLayerSync initialized for split: train, with bs: 128, im_shape: [227, 227].\n",
      "BatchLoader initialized with 5823 images\n",
      "PascalMultilabelDataLayerSync initialized for split: val, with bs: 128, im_shape: [227, 227].\n"
     ]
    }
   ],
   "source": [
    "solver = caffe.SGDSolver(osp.join(workdir, 'solver.prototxt'))\n",
    "solver.net.copy_from(caffe_root + 'models/bvlc_reference_caffenet/bvlc_reference_caffenet.caffemodel')\n",
    "solver.test_nets[0].share_with(solver.net)\n",
    "solver.step(1)"
   ]
  },
  {
   "cell_type": "markdown",
   "metadata": {},
   "source": [
    "* Let's check the data we have loaded."
   ]
  },
  {
   "cell_type": "code",
   "execution_count": 16,
   "metadata": {
    "collapsed": false
   },
   "outputs": [
    {
     "data": {
      "image/png": "iVBORw0KGgoAAAANSUhEUgAAAXIAAAF6CAYAAAAEd9NkAAAABHNCSVQICAgIfAhkiAAAAAlwSFlz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\nS2n9p3z405+yShJevniJFP